{
 "cells": [
  {
   "cell_type": "code",
   "execution_count": 1,
   "metadata": {},
   "outputs": [],
   "source": [
    "import pandas as pd"
   ]
  },
  {
   "cell_type": "code",
   "execution_count": 2,
   "metadata": {},
   "outputs": [],
   "source": [
    "pres_path = 'data/1976-2016-president.csv'\n",
    "house_path = 'data/1976-2018-house.csv'\n",
    "senate_path = 'data/1976-2018-senate.csv'"
   ]
  },
  {
   "cell_type": "code",
   "execution_count": 3,
   "metadata": {},
   "outputs": [],
   "source": [
    "df_pres = pd.read_csv(pres_path, encoding = \"ISO-8859-1\", header=0)\n",
    "df_house = pd.read_csv(house_path, encoding = \"ISO-8859-1\", header=0)\n",
    "df_senate = pd.read_csv(senate_path, encoding = \"ISO-8859-1\", header=0)"
   ]
  },
  {
   "cell_type": "code",
   "execution_count": 20,
   "metadata": {},
   "outputs": [],
   "source": [
    "OUTPUT = [\n",
    "    {\n",
    "        \"year\": 2016,\n",
    "        \"state\": \"AL\",\n",
    "        \"candidate\": \"Bob\",\n",
    "        \"party\": \"republican\",\n",
    "        \"candidatevotes\": 450,\n",
    "        \"totalvotes\": 1000,\n",
    "        \"vote_percent\": 0.45,\n",
    "    },\n",
    "    {\n",
    "        \"year\": 2016,\n",
    "        \"state\": \"AL\",\n",
    "        \"candidate\": \"Alice\",\n",
    "        \"party\": \"democrat\",\n",
    "        \"candidatevotes\": 400,\n",
    "        \"totalvotes\": 1000,\n",
    "        \"vote_percent\": 0.4,\n",
    "    },\n",
    "    {\n",
    "        \"year\": 2016,\n",
    "        \"state\": \"AL\",\n",
    "        \"candidate\": \"Charlie\",\n",
    "        \"party\": \"libertarian\",\n",
    "        \"candidatevotes\": 140,\n",
    "        \"totalvotes\": 1000,\n",
    "        \"vote_percent\": 0.14,\n",
    "    },\n",
    "    {\n",
    "        \"year\": 2016,\n",
    "        \"state\": \"AL\",\n",
    "        \"candidate\": \"David\",\n",
    "        \"party\": \"rogue\",\n",
    "        \"candidatevotes\": 10,\n",
    "        \"totalvotes\": 1000,\n",
    "        \"vote_percent\": 0.01,\n",
    "    },\n",
    "    {\n",
    "        \"year\": 2016,\n",
    "        \"state\": \"NJ\",\n",
    "        \"candidate\": \"Bob\",\n",
    "        \"party\": \"republican\",\n",
    "        \"candidatevotes\": 375,\n",
    "        \"totalvotes\": 1000,\n",
    "        \"vote_percent\": 0.375,\n",
    "    },\n",
    "    {\n",
    "        \"year\": 2016,\n",
    "        \"state\": \"NJ\",\n",
    "        \"candidate\": \"Alice\",\n",
    "        \"party\": \"democrat\",\n",
    "        \"candidatevotes\": 600,\n",
    "        \"totalvotes\": 1000,\n",
    "        \"vote_percent\": 0.6,\n",
    "    },\n",
    "    {\n",
    "        \"year\": 2016,\n",
    "        \"state\": \"NJ\",\n",
    "        \"candidate\": \"Dana\",\n",
    "        \"party\": \"green\",\n",
    "        \"candidatevotes\": 25,\n",
    "        \"totalvotes\": 1000,\n",
    "        \"vote_percent\": 0.025,\n",
    "    },\n",
    "    {\n",
    "        \"year\": 2012,\n",
    "        \"state\": \"AL\",\n",
    "        \"candidate\": \"Bob\",\n",
    "        \"party\": \"republican\",\n",
    "        \"candidatevotes\": 400,\n",
    "        \"totalvotes\": 1000,\n",
    "        \"vote_percent\": 0.40,\n",
    "    },\n",
    "    {\n",
    "        \"year\": 2012,\n",
    "        \"state\": \"AL\",\n",
    "        \"candidate\": \"Alice\",\n",
    "        \"party\": \"democrat\",\n",
    "        \"candidatevotes\": 550,\n",
    "        \"totalvotes\": 1000,\n",
    "        \"vote_percent\": 0.55,\n",
    "    },\n",
    "    {\n",
    "        \"year\": 2012,\n",
    "        \"state\": \"AL\",\n",
    "        \"candidate\": \"Charlie\",\n",
    "        \"party\": \"libertarian\",\n",
    "        \"candidatevotes\": 50,\n",
    "        \"totalvotes\": 1000,\n",
    "        \"vote_percent\": 0.05,\n",
    "    },\n",
    "    {\n",
    "        \"year\": 2012,\n",
    "        \"state\": \"NJ\",\n",
    "        \"candidate\": \"Bob\",\n",
    "        \"party\": \"republican\",\n",
    "        \"candidatevotes\": 400,\n",
    "        \"totalvotes\": 1000,\n",
    "        \"vote_percent\": 0.4,\n",
    "    },\n",
    "    {\n",
    "        \"year\": 2012,\n",
    "        \"state\": \"NJ\",\n",
    "        \"candidate\": \"Alice\",\n",
    "        \"party\": \"democrat\",\n",
    "        \"candidatevotes\": 525,\n",
    "        \"totalvotes\": 1000,\n",
    "        \"vote_percent\": 0.525,\n",
    "    },\n",
    "    {\n",
    "        \"year\": 2012,\n",
    "        \"state\": \"NJ\",\n",
    "        \"candidate\": \"Charlie\",\n",
    "        \"party\": \"libertarian\",\n",
    "        \"candidatevotes\": 50,\n",
    "        \"totalvotes\": 1000,\n",
    "        \"vote_percent\": 0.05,\n",
    "    },\n",
    "    {\n",
    "        \"year\": 2012,\n",
    "        \"state\": \"NJ\",\n",
    "        \"candidate\": \"Daphne\",\n",
    "        \"party\": \"peace\",\n",
    "        \"candidatevotes\": 25,\n",
    "        \"totalvotes\": 1000,\n",
    "        \"vote_percent\": 0.025,\n",
    "    },\n",
    "]\n"
   ]
  },
  {
   "cell_type": "code",
   "execution_count": 22,
   "metadata": {},
   "outputs": [
    {
     "data": {
      "text/html": [
       "<div>\n",
       "<style scoped>\n",
       "    .dataframe tbody tr th:only-of-type {\n",
       "        vertical-align: middle;\n",
       "    }\n",
       "\n",
       "    .dataframe tbody tr th {\n",
       "        vertical-align: top;\n",
       "    }\n",
       "\n",
       "    .dataframe thead th {\n",
       "        text-align: right;\n",
       "    }\n",
       "</style>\n",
       "<table border=\"1\" class=\"dataframe\">\n",
       "  <thead>\n",
       "    <tr style=\"text-align: right;\">\n",
       "      <th></th>\n",
       "      <th></th>\n",
       "      <th>candidatevotes</th>\n",
       "      <th>totalvotes</th>\n",
       "      <th>vote_percent</th>\n",
       "    </tr>\n",
       "    <tr>\n",
       "      <th>year</th>\n",
       "      <th>state</th>\n",
       "      <th></th>\n",
       "      <th></th>\n",
       "      <th></th>\n",
       "    </tr>\n",
       "  </thead>\n",
       "  <tbody>\n",
       "    <tr>\n",
       "      <th rowspan=\"2\" valign=\"top\">2012</th>\n",
       "      <th>AL</th>\n",
       "      <td>1000</td>\n",
       "      <td>3000</td>\n",
       "      <td>1.0</td>\n",
       "    </tr>\n",
       "    <tr>\n",
       "      <th>NJ</th>\n",
       "      <td>1000</td>\n",
       "      <td>4000</td>\n",
       "      <td>1.0</td>\n",
       "    </tr>\n",
       "    <tr>\n",
       "      <th rowspan=\"2\" valign=\"top\">2016</th>\n",
       "      <th>AL</th>\n",
       "      <td>1000</td>\n",
       "      <td>4000</td>\n",
       "      <td>1.0</td>\n",
       "    </tr>\n",
       "    <tr>\n",
       "      <th>NJ</th>\n",
       "      <td>1000</td>\n",
       "      <td>3000</td>\n",
       "      <td>1.0</td>\n",
       "    </tr>\n",
       "  </tbody>\n",
       "</table>\n",
       "</div>"
      ],
      "text/plain": [
       "            candidatevotes  totalvotes  vote_percent\n",
       "year state                                          \n",
       "2012 AL               1000        3000           1.0\n",
       "     NJ               1000        4000           1.0\n",
       "2016 AL               1000        4000           1.0\n",
       "     NJ               1000        3000           1.0"
      ]
     },
     "execution_count": 22,
     "metadata": {},
     "output_type": "execute_result"
    }
   ],
   "source": [
    "df = pd.DataFrame(OUTPUT)\n",
    "df.groupby(['year', 'state']).sum()"
   ]
  },
  {
   "cell_type": "code",
   "execution_count": 45,
   "metadata": {},
   "outputs": [],
   "source": [
    "def show_value_counts(df):\n",
    "    for col in df.columns:\n",
    "        unique_vals = len(df[col].unique())\n",
    "        if 1 < unique_vals < 20:\n",
    "            print(col)\n",
    "            print(f\"{unique_vals} unique values\")\n",
    "            print(df[col].value_counts())\n",
    "            print(\" \")"
   ]
  },
  {
   "cell_type": "code",
   "execution_count": 46,
   "metadata": {},
   "outputs": [
    {
     "name": "stdout",
     "output_type": "stream",
     "text": [
      "year\n",
      "11 unique values\n",
      "1992    370\n",
      "2000    369\n",
      "1996    368\n",
      "1980    364\n",
      "2008    351\n",
      "2016    345\n",
      "1976    332\n",
      "1984    323\n",
      "2004    317\n",
      "2012    316\n",
      "1988    285\n",
      "Name: year, dtype: int64\n",
      " \n",
      "writein\n",
      "2 unique values\n",
      "False    3493\n",
      "True      247\n",
      "Name: writein, dtype: int64\n",
      " \n"
     ]
    }
   ],
   "source": [
    "show_value_counts(df_pres)"
   ]
  },
  {
   "cell_type": "code",
   "execution_count": 47,
   "metadata": {},
   "outputs": [
    {
     "name": "stdout",
     "output_type": "stream",
     "text": [
      "stage\n",
      "2 unique values\n",
      "gen    3412\n",
      "pre       9\n",
      "Name: stage, dtype: int64\n",
      " \n",
      "special\n",
      "2 unique values\n",
      "False    3315\n",
      "True      106\n",
      "Name: special, dtype: int64\n",
      " \n",
      "writein\n",
      "2 unique values\n",
      "False    2992\n",
      "True      429\n",
      "Name: writein, dtype: int64\n",
      " \n",
      "unofficial\n",
      "2 unique values\n",
      "False    3418\n",
      "True        3\n",
      "Name: unofficial, dtype: int64\n",
      " \n",
      "version\n",
      "3 unique values\n",
      "20171011.0    3268\n",
      "20190110.0     152\n",
      "Name: version, dtype: int64\n",
      " \n"
     ]
    }
   ],
   "source": [
    "show_value_counts(df_senate)"
   ]
  },
  {
   "cell_type": "code",
   "execution_count": 48,
   "metadata": {},
   "outputs": [
    {
     "name": "stdout",
     "output_type": "stream",
     "text": [
      "stage\n",
      "3 unique values\n",
      "gen    29546\n",
      "pri       60\n",
      "Name: stage, dtype: int64\n",
      " \n",
      "runoff\n",
      "3 unique values\n",
      "False    20972\n",
      "True         8\n",
      "Name: runoff, dtype: int64\n",
      " \n",
      "special\n",
      "2 unique values\n",
      "False    29546\n",
      "True        90\n",
      "Name: special, dtype: int64\n",
      " \n",
      "writein\n",
      "2 unique values\n",
      "False    27473\n",
      "True      2163\n",
      "Name: writein, dtype: int64\n",
      " \n",
      "unofficial\n",
      "2 unique values\n",
      "False    29597\n",
      "True        39\n",
      "Name: unofficial, dtype: int64\n",
      " \n",
      "fusion_ticket\n",
      "2 unique values\n",
      "False    27268\n",
      "True      2368\n",
      "Name: fusion_ticket, dtype: int64\n",
      " \n"
     ]
    }
   ],
   "source": [
    "show_value_counts(df_house)"
   ]
  },
  {
   "cell_type": "code",
   "execution_count": 43,
   "metadata": {},
   "outputs": [
    {
     "data": {
      "text/plain": [
       "False    20972\n",
       "True         8\n",
       "Name: runoff, dtype: int64"
      ]
     },
     "execution_count": 43,
     "metadata": {},
     "output_type": "execute_result"
    }
   ],
   "source": [
    "df_house['runoff'].value_counts()"
   ]
  },
  {
   "cell_type": "code",
   "execution_count": 13,
   "metadata": {},
   "outputs": [
    {
     "data": {
      "text/plain": [
       "gen    3412\n",
       "pre       9\n",
       "Name: stage, dtype: int64"
      ]
     },
     "execution_count": 13,
     "metadata": {},
     "output_type": "execute_result"
    }
   ],
   "source": [
    "df_senate['stage'].value_counts()"
   ]
  },
  {
   "cell_type": "code",
   "execution_count": null,
   "metadata": {},
   "outputs": [],
   "source": []
  }
 ],
 "metadata": {
  "kernelspec": {
   "display_name": "Python 3",
   "language": "python",
   "name": "python3"
  },
  "language_info": {
   "codemirror_mode": {
    "name": "ipython",
    "version": 3
   },
   "file_extension": ".py",
   "mimetype": "text/x-python",
   "name": "python",
   "nbconvert_exporter": "python",
   "pygments_lexer": "ipython3",
   "version": "3.7.7"
  }
 },
 "nbformat": 4,
 "nbformat_minor": 4
}
